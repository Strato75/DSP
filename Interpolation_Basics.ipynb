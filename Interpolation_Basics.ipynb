{
 "cells": [
  {
   "cell_type": "code",
   "execution_count": null,
   "metadata": {},
   "outputs": [],
   "source": [
    "%pylab inline"
   ]
  },
  {
   "cell_type": "markdown",
   "metadata": {},
   "source": [
    "## Interpolation Basics\n",
    "\n",
    "ref: https://www.dsprelated.com/showarticle/1293.php"
   ]
  },
  {
   "cell_type": "code",
   "execution_count": null,
   "metadata": {},
   "outputs": [],
   "source": [
    "from scipy.signal import chebwin, freqz, remez, convolve\n",
    "import numpy as np\n",
    "from scipy import fftpack\n"
   ]
  },
  {
   "cell_type": "markdown",
   "metadata": {},
   "source": [
    "### Original signal, downsampling and spectra "
   ]
  },
  {
   "cell_type": "code",
   "execution_count": null,
   "metadata": {},
   "outputs": [],
   "source": [
    "NFFT = 256\n",
    "N = 32\n",
    "fs = 400 # Hz\n",
    "\n",
    "undersampling_freq = 100 # Hz \n",
    "\n",
    "p = chebwin(N,70) # Starting signal (time distance between points is 1/fs)\n",
    "\n",
    "s = p/sum(p) # normalize signal\n",
    "u = s[::fs//undersampling_freq] # undersampling input signal from fs to undersampling_freq\n",
    "\n",
    "## s FFT\n",
    "s_fft = fftpack.fft(s, n=NFFT)\n",
    "s_spect = np.abs(s_fft)\n",
    "s_pow_spect = s_spect**2\n",
    "L=len(s_pow_spect)\n",
    "s_freqs = np.array(range(L))*float(fs)/L # Using this instead of fftfreq to show left side of the replica\n",
    "#s_freqs = fftpack.fftfreq(L) * fs \n",
    "\n",
    "## u FFT\n",
    "u_fft = fftpack.fft(u, n=NFFT)\n",
    "u_spect = np.abs(u_fft)\n",
    "u_pow_spect = u_spect**2\n",
    "L=len(u_pow_spect)\n",
    "u_freqs = np.array(range(L))*float(undersampling_freq)/L \n",
    "#u_freqs = fftpack.fftfreq(L) * undersampling_freq"
   ]
  },
  {
   "cell_type": "code",
   "execution_count": null,
   "metadata": {},
   "outputs": [],
   "source": [
    "figure(figsize=(15,3))\n",
    "subplot(1,3,1)\n",
    "plot(s, 'o')\n",
    "xlabel('sample')\n",
    "title(\"time domain\")\n",
    "subplot(1,3,2)\n",
    "#stem(s_freqs, s_pow_spect)\n",
    "plot(s_freqs, s_spect)\n",
    "xlabel(\"Freq (Hz)\")\n",
    "title(\"spectrum\")\n",
    "subplot(1,3,3)\n",
    "#stem(s_freqs, s_pow_spect)\n",
    "plot(s_freqs, s_pow_spect)\n",
    "xlabel(\"Freq (Hz)\")\n",
    "title(\"PSD\")\n",
    "\n",
    "suptitle(\"Sampling freq. 400 Hz\")\n",
    "tight_layout(rect=[0, 0.03, 1, 0.95])\n",
    "\n",
    "figure(figsize=(15,3))\n",
    "subplot(1,3,1)\n",
    "plot(u, 'o')\n",
    "xlabel('sample')\n",
    "title(\"time domain\")\n",
    "subplot(1,3,2)\n",
    "plot(u_freqs, u_spect)\n",
    "xlabel(\"Freq (Hz)\")\n",
    "title(\"spectrum\")\n",
    "subplot(1,3,3)\n",
    "plot(u_freqs, u_pow_spect)\n",
    "xlabel(\"Freq (Hz)\")\n",
    "title(\"PSD\")\n",
    "\n",
    "suptitle(\"Subsampling freq. 100 Hz\")\n",
    "tight_layout(rect=[0, 0.03, 1, 0.95])"
   ]
  },
  {
   "cell_type": "code",
   "execution_count": null,
   "metadata": {},
   "outputs": [],
   "source": [
    "### Aliasing example: This cell is used to show the result of different undersampling frequencies.\n",
    "\n",
    "figure(figsize=(15,5))\n",
    "SubSampling=[1, 2, 4, 8, 16, 32]\n",
    "i=1\n",
    "for F in SubSampling:\n",
    "        dataSS=s[::F]\n",
    "        plt.subplot(2,3,i)\n",
    "        D=fftpack.fft(dataSS, n=256)\n",
    "        pD=np.abs(D)**2\n",
    "        L=len(pD)\n",
    "        freq=np.array(range(L))*float(fs/F)/L\n",
    "        plt.plot(freq,pD)\n",
    "        plt.title(\"Subsampling Factor %d\"%(F))\n",
    "        plt.xlabel(\"Freq (Hz)\")\n",
    "        i+=1\n",
    "tight_layout(rect=[0, 0.03, 1, 0.95])\n",
    "suptitle(\"Aliasing: PSD with different subsampling factors (Sampling freq. starting at 400 Hz)\")"
   ]
  },
  {
   "cell_type": "markdown",
   "metadata": {},
   "source": [
    "#### Upsampling"
   ]
  },
  {
   "cell_type": "code",
   "execution_count": null,
   "metadata": {},
   "outputs": [],
   "source": [
    "# upsampling\n",
    "upsampling_factor = 4\n",
    "upsampling_freq = undersampling_freq * upsampling_factor\n",
    "x_up = np.zeros(len(u) * upsampling_factor);\n",
    "x_up[::4] = upsampling_factor*u # upsampling_factor here is used as a gain factor \n",
    "\n",
    "# Spectrum of upsampling signal\n",
    "x_up_fft = fftpack.fft(x_up, n=NFFT)\n",
    "x_up_spect = np.abs(x_up_fft)\n",
    "x_up_pow_spect = x_up_spect**2\n",
    "L=len(x_up_pow_spect)\n",
    "x_up_freqs = np.array(range(L))*float(upsampling_freq)/L "
   ]
  },
  {
   "cell_type": "code",
   "execution_count": null,
   "metadata": {},
   "outputs": [],
   "source": [
    "figure(figsize=(15,3))\n",
    "subplot(1,3,1)\n",
    "stem(range(len(x_up)), x_up)\n",
    "xlabel('sample')\n",
    "title(\"time domain\")\n",
    "subplot(1,3,2)\n",
    "plot(x_up_freqs, x_up_spect)\n",
    "xlabel(\"Freq (Hz)\")\n",
    "title(\"spectrum\")\n",
    "subplot(1,3,3)\n",
    "plot(x_up_freqs, x_up_pow_spect)\n",
    "xlabel(\"Freq (Hz)\")\n",
    "title(\"PSD\")\n",
    "\n",
    "suptitle(\"Upsampling to 400Hz\")\n",
    "tight_layout(rect=[0, 0.03, 1, 0.95])"
   ]
  },
  {
   "cell_type": "markdown",
   "metadata": {},
   "source": [
    "#### NB: The spectrum of upsampled signal has replicas between 0 and 400Hz... not good. It needs the interpolation filter\n",
    "### Interpolation filter"
   ]
  },
  {
   "cell_type": "code",
   "execution_count": null,
   "metadata": {},
   "outputs": [],
   "source": [
    "## Interpolation filter using Parks-McClellan algorithm (remez in scipy and firpm in matlab)\n",
    "numtaps = 41\n",
    "bands = np.array([0., 36., 66., 135., 166., 199.])\n",
    "desired = np.array([1., 0., 0.])\n",
    "up_filter = remez(numtaps, bands, desired, Hz=fs)\n",
    "\n",
    "# Filter response \n",
    "up_filter_f, up_filter_a = freqz(up_filter) # freqz returns, by default, frequency normalized to the range [0, pi) (radians/sample).\n",
    "up_filter_f = 0.5*fs*up_filter_f/np.pi\n",
    "up_filter_mag = 20*np.log10(np.abs(up_filter_a))\n",
    "up_filter_phase = np.unwrap(np.angle(up_filter_a))\n",
    "\n",
    "fig, ax1 = plt.subplots()\n",
    "ax1.set_title('Digital filter frequency response')\n",
    "\n",
    "ax1.plot(up_filter_f, up_filter_mag, 'b', label='Magnitude (db)')\n",
    "ax1.set_ylabel('Amplitude [dB]', color='b')\n",
    "ax1.set_xlabel('Frequency [rad/sample]')\n",
    "\n",
    "ax2 = ax1.twinx()\n",
    "ax2.plot(up_filter_f, up_filter_phase, 'g', label=\"Phase\")\n",
    "ax2.set_ylabel('Angle (radians)', color='g')\n",
    "ax2.grid()\n",
    "ax2.axis('tight')\n",
    "\n"
   ]
  },
  {
   "cell_type": "code",
   "execution_count": null,
   "metadata": {},
   "outputs": [],
   "source": [
    "## Quantization of filter coefficients\n",
    "\n",
    "fixed_point_n = 10\n",
    "up_filter_fixed_point= np.round(up_filter*2**(fixed_point_n-1))/2**(fixed_point_n-1)\n",
    "#plot(up_filter)\n",
    "plot(100 * (up_filter - up_filter_fixed_point) / up_filter)\n",
    "title(\"Filter coefficient errors due to quantization (percentage)\")\n",
    "ylabel('%')\n",
    "xlabel('coefficient index')\n",
    "grid()"
   ]
  },
  {
   "cell_type": "markdown",
   "metadata": {},
   "source": [
    "### Interpolation: Convolving upsampled signal with interpolation filter"
   ]
  },
  {
   "cell_type": "code",
   "execution_count": null,
   "metadata": {},
   "outputs": [],
   "source": [
    "# Convolution\n",
    "x_interp = convolve(x_up, up_filter_fixed_point)\n",
    "\n",
    "# Spectrum of interpolated signal\n",
    "x_interp_fft = fftpack.fft(x_interp, n=NFFT)\n",
    "x_interp_spect = np.abs(x_interp_fft)\n",
    "x_interp_pow_spect = x_interp_spect**2\n",
    "L=len(x_interp_pow_spect)\n",
    "x_interp_freqs = np.array(range(L))*float(upsampling_freq)/L "
   ]
  },
  {
   "cell_type": "code",
   "execution_count": null,
   "metadata": {},
   "outputs": [],
   "source": [
    "figure(figsize=(15,10))\n",
    "subplot(2,2,1)\n",
    "plot(range(len(x_interp)), x_interp, 'o-', label='Interp.')\n",
    "plot(range(len(x_interp)), np.hstack((np.zeros(20),s,np.zeros(20))), 'o-', c='r', label='Orig.')\n",
    "xlabel('sample')\n",
    "title(\"time domain\")\n",
    "legend()\n",
    "grid()\n",
    "\n",
    "subplot(2,2,2)\n",
    "interp_error= 100*(x_interp[20:52] - s)/max(s) # Slicing due to the 0 padding convolution\n",
    "plot(interp_error, 'o')\n",
    "ylim(-1.0, 1.0)\n",
    "xlabel(\"sample index\")\n",
    "ylabel(\"interpolation error ratio\")\n",
    "title(\"Interpolation error\")\n",
    "grid()\n",
    "min_e = min(interp_error)\n",
    "axhline(min_e, label='min_e = %.2f' % min_e, lw = .5, c='r')\n",
    "max_e = max(interp_error)\n",
    "axhline(max_e, label='max_e = %.2f' % max_e, lw = .5, c='r')\n",
    "legend()\n",
    "\n",
    "subplot(2,2,3)\n",
    "plot(x_interp_freqs, x_interp_spect)\n",
    "xlabel(\"Freq (Hz)\")\n",
    "title(\"spectrum\")\n",
    "\n",
    "subplot(2,2,4)\n",
    "plot(x_interp_freqs, x_interp_pow_spect)\n",
    "xlabel(\"Freq (Hz)\")\n",
    "title(\"PSD\")\n",
    "\n",
    "suptitle(\"Interpolation to 400Hz (Filter coeff. %d bits, Q%d)\" % (fixed_point_n, fixed_point_n-1))\n",
    "tight_layout(rect=[0, 0.03, 1, 0.95])"
   ]
  }
 ],
 "metadata": {
  "kernelspec": {
   "display_name": "python3_stat",
   "language": "python",
   "name": "python3_stat"
  },
  "language_info": {
   "codemirror_mode": {
    "name": "ipython",
    "version": 3
   },
   "file_extension": ".py",
   "mimetype": "text/x-python",
   "name": "python",
   "nbconvert_exporter": "python",
   "pygments_lexer": "ipython3",
   "version": "3.6.5"
  }
 },
 "nbformat": 4,
 "nbformat_minor": 2
}
